{
 "cells": [
  {
   "cell_type": "markdown",
   "metadata": {},
   "source": [
    "这个实验要求我们利用逻辑回归识别0-9手写数字。很明显，这是一个多分类问题。"
   ]
  },
  {
   "cell_type": "markdown",
   "metadata": {},
   "source": [
    "由于数据集是MATLAB的本机格式，所以我们要使用python的loadmat来读取数据集"
   ]
  },
  {
   "cell_type": "code",
   "execution_count": 1,
   "metadata": {},
   "outputs": [],
   "source": [
    "import numpy as np\n",
    "import pandas as pd\n",
    "import matplotlib.pyplot as plt\n",
    "from scipy.io import loadmat"
   ]
  },
  {
   "cell_type": "code",
   "execution_count": 2,
   "metadata": {},
   "outputs": [
    {
     "data": {
      "text/plain": [
       "{'__header__': b'MATLAB 5.0 MAT-file, Platform: GLNXA64, Created on: Sun Oct 16 13:09:09 2011',\n",
       " '__version__': '1.0',\n",
       " '__globals__': [],\n",
       " 'X': array([[0., 0., 0., ..., 0., 0., 0.],\n",
       "        [0., 0., 0., ..., 0., 0., 0.],\n",
       "        [0., 0., 0., ..., 0., 0., 0.],\n",
       "        ...,\n",
       "        [0., 0., 0., ..., 0., 0., 0.],\n",
       "        [0., 0., 0., ..., 0., 0., 0.],\n",
       "        [0., 0., 0., ..., 0., 0., 0.]]),\n",
       " 'y': array([[10],\n",
       "        [10],\n",
       "        [10],\n",
       "        ...,\n",
       "        [ 9],\n",
       "        [ 9],\n",
       "        [ 9]], dtype=uint8)}"
      ]
     },
     "execution_count": 2,
     "metadata": {},
     "output_type": "execute_result"
    }
   ],
   "source": [
    "data = loadmat('ex3data1.mat')\n",
    "data"
   ]
  },
  {
   "cell_type": "code",
   "execution_count": 3,
   "metadata": {},
   "outputs": [
    {
     "data": {
      "text/plain": [
       "((5000, 400), (5000, 1))"
      ]
     },
     "execution_count": 3,
     "metadata": {},
     "output_type": "execute_result"
    }
   ],
   "source": [
    "data['X'].shape, data['y'].shape"
   ]
  },
  {
   "cell_type": "markdown",
   "metadata": {},
   "source": [
    "我们可以看到，数据集有5000个样本组成，每张图片是$20\\times20$的像素图片，被压维成了长为400的一维向量\n",
    "像素图片中每个点是一个浮点数，指明这个位置的**灰度值**。在标签y中，用0表示数字10，1-9正常表示数字1-9"
   ]
  },
  {
   "cell_type": "markdown",
   "metadata": {},
   "source": [
    "定义sigmoid函数："
   ]
  },
  {
   "cell_type": "code",
   "execution_count": 4,
   "metadata": {},
   "outputs": [],
   "source": [
    "def sigmoid(z):\n",
    "    return 1 / (1 + np.exp(-z))"
   ]
  },
  {
   "cell_type": "markdown",
   "metadata": {},
   "source": [
    "逻辑回归的代价函数为：$J\\left( \\theta \\right)=\\frac{1}{m}\\sum\\limits_{i=1}^{m}{\\Big[-{{y}^{(i)}}\\log \\left( {h_\\theta}\\left( {{x}^{(i)}} \\right) \\right)-\\left( 1-{{y}^{(i)}} \\right)\\log \\left( 1-{h_\\theta}\\left( {{x}^{(i)}} \\right) \\right) \\Big]} + \\frac{\\lambda}{2m}\\sum_{j = 1}^{n}\\theta_j^2 $"
   ]
  },
  {
   "cell_type": "code",
   "execution_count": 17,
   "metadata": {},
   "outputs": [],
   "source": [
    "def cost(theta, X, y, lamb):\n",
    "    theta = np.matrix(theta)\n",
    "    X = np.matrix(X)\n",
    "    y = np.matrix(y)\n",
    "\n",
    "    first = np.multiply(-y, np.log(sigmoid(X * theta.T)))\n",
    "    second = np.multiply(y - 1, np.log(1 - sigmoid(X * theta.T)))\n",
    "    reg = lamb / (2 * len(X)) * np.sum(np.power(theta[:, 1 : theta.shape[1]], 2))\n",
    "    return np.sum(first + second) / len(X) + reg"
   ]
  },
  {
   "cell_type": "markdown",
   "metadata": {},
   "source": [
    "梯度下降:\n",
    "\n",
    "${{\\theta }_{0}}:={{\\theta }_{0}}-\\alpha\\frac{1}{m}\\sum\\limits_{i=1}^{m}{({{h}_{\\theta }}({{x}^{(i)}})-{{y}^{(i)}})}x_{0}^{(i)} \\\\$\n",
    "${{\\theta }_{j}}:={{\\theta }_{j}}-\\alpha \\Big[ \\frac{1}{m}\\sum\\limits_{i=1}^{m}{({{h}_{\\theta }}({{x}^{(i)}})-{{y}^{(i)}})}x_{j}^{(i)} + \\frac{\\lambda}{m}\\theta_j \\Big] \\; , \\; for \\; j = 1,2,3,...,n$"
   ]
  },
  {
   "cell_type": "code",
   "execution_count": 6,
   "metadata": {},
   "outputs": [],
   "source": [
    "def gradientDescent(theta, X, y, lamb):\n",
    "    theta = np.matrix(theta)\n",
    "    X = np.matrix(X)\n",
    "    y = np.matrix(y)\n",
    "\n",
    "    n = int(theta.ravel().shape[1])\n",
    "    grad = np.zeros(n)\n",
    "    err = sigmoid(X * theta.T) - y\n",
    "\n",
    "    for i in range(n):\n",
    "        term = np.multiply(err, X[:, i])\n",
    "\n",
    "        if i == 0:\n",
    "            grad[i] = np.sum(term) / len(X)\n",
    "        else:\n",
    "            grad[i] = np.sum(term) / len(X) + lamb / len(X) * theta[:, i]\n",
    "    \n",
    "    return grad"
   ]
  },
  {
   "cell_type": "markdown",
   "metadata": {},
   "source": [
    "上面是我们之前写的梯度下降的普通版本，其实我们还可以将其改写为**向量化**的版本："
   ]
  },
  {
   "cell_type": "code",
   "execution_count": 7,
   "metadata": {},
   "outputs": [],
   "source": [
    "def gradient(theta, X, y, lamb):\n",
    "    theta = np.matrix(theta)\n",
    "    X = np.matrix(X)\n",
    "    y = np.matrix(y)\n",
    "\n",
    "    n = int(theta.ravel().shape[1])\n",
    "    err = sigmoid(X * theta.T) - y\n",
    "    grad = (X.T * err).T / len(X) + lamb / len(X) * theta\n",
    "    grad[0, 0] = np.sum(err.T * X[:, 0 : 1]) / len(X)\n",
    "\n",
    "    return np.array(grad).ravel()"
   ]
  },
  {
   "cell_type": "markdown",
   "metadata": {},
   "source": [
    "接下来我们构建分类器，由于这个任务有10个可能的类别，所以我们采用“一对多”的分类方法。\n",
    "\n",
    "我们将样本对每个类别进行梯度下降，得到10个局部最小$\\theta$，最后通过$h_{\\theta}(x)$运算，取最大可能性的那个类别作为预测结果"
   ]
  },
  {
   "cell_type": "code",
   "execution_count": 18,
   "metadata": {},
   "outputs": [],
   "source": [
    "from scipy.optimize import minimize\n",
    "\n",
    "def one_vs_all(X, y, num_labels, lamb):\n",
    "    m = X.shape[0]\n",
    "    n = X.shape[1]\n",
    "\n",
    "    # num_labels * (n + 1) matrix for each tags' theta\n",
    "    all_theta = np.zeros((num_labels, n + 1))\n",
    "\n",
    "    # add the bias term\n",
    "    X = np.insert(X, 0, values=np.ones(m), axis=1)\n",
    "\n",
    "    for i in range(1, num_labels + 1):\n",
    "        theta = np.zeros(n + 1)\n",
    "        y_i = np.array([1 if label == i else 0 for label in y])\n",
    "        y_i = np.reshape(y_i, (m, 1))\n",
    "\n",
    "        # minimize the objective function\n",
    "        fmin = minimize(fun=cost, x0=theta, args=(X, y_i, lamb), method='TNC', jac=gradient)\n",
    "        all_theta[i - 1, :] = fmin.x\n",
    "    \n",
    "    return all_theta"
   ]
  },
  {
   "cell_type": "markdown",
   "metadata": {},
   "source": [
    "我们查看y中的分类标签，确保与我们的想法一致"
   ]
  },
  {
   "cell_type": "code",
   "execution_count": 9,
   "metadata": {},
   "outputs": [
    {
     "data": {
      "text/plain": [
       "array([ 1,  2,  3,  4,  5,  6,  7,  8,  9, 10], dtype=uint8)"
      ]
     },
     "execution_count": 9,
     "metadata": {},
     "output_type": "execute_result"
    }
   ],
   "source": [
    "np.unique(data['y'])"
   ]
  },
  {
   "cell_type": "code",
   "execution_count": 19,
   "metadata": {},
   "outputs": [
    {
     "data": {
      "text/plain": [
       "array([[-2.38284954e+00,  0.00000000e+00,  0.00000000e+00, ...,\n",
       "         1.30507327e-03, -9.06387081e-10,  0.00000000e+00],\n",
       "       [-3.18224985e+00,  0.00000000e+00,  0.00000000e+00, ...,\n",
       "         4.45533792e-03, -5.07956639e-04,  0.00000000e+00],\n",
       "       [-4.79877410e+00,  0.00000000e+00,  0.00000000e+00, ...,\n",
       "        -2.87335685e-05, -2.47343575e-07,  0.00000000e+00],\n",
       "       ...,\n",
       "       [-7.98722034e+00,  0.00000000e+00,  0.00000000e+00, ...,\n",
       "        -8.94700016e-05,  7.21374762e-06,  0.00000000e+00],\n",
       "       [-4.56958867e+00,  0.00000000e+00,  0.00000000e+00, ...,\n",
       "        -1.33747010e-03,  1.00048086e-04,  0.00000000e+00],\n",
       "       [-5.40437806e+00,  0.00000000e+00,  0.00000000e+00, ...,\n",
       "        -1.16589020e-04,  7.87959477e-06,  0.00000000e+00]])"
      ]
     },
     "execution_count": 19,
     "metadata": {},
     "output_type": "execute_result"
    }
   ],
   "source": [
    "all_theta = one_vs_all(data['X'], data['y'], 10, 1)\n",
    "all_theta"
   ]
  },
  {
   "cell_type": "markdown",
   "metadata": {},
   "source": [
    "完成了对于所有类别的梯度下降后，我们现在进行预测"
   ]
  },
  {
   "cell_type": "code",
   "execution_count": 20,
   "metadata": {},
   "outputs": [],
   "source": [
    "def predict(X, all_theta):\n",
    "    m = X.shape[0]\n",
    "    n = X.shape[1]\n",
    "    num_labels = all_theta.shape[0]\n",
    "    \n",
    "    X = np.insert(X, 0, values=np.ones(m), axis=1)\n",
    "    X = np.matrix(X)\n",
    "    all_theta = np.matrix(all_theta)\n",
    "\n",
    "    # calculate the probability of each tags\n",
    "    h = sigmoid(X * all_theta.T)\n",
    "\n",
    "    h_max = np.argmax(h, axis=1) # 0-indexed\n",
    "\n",
    "    return h_max + 1"
   ]
  },
  {
   "cell_type": "markdown",
   "metadata": {},
   "source": [
    "ok, 使用predict函数为每个样本预测其所属的类别。"
   ]
  },
  {
   "cell_type": "code",
   "execution_count": 22,
   "metadata": {},
   "outputs": [
    {
     "name": "stdout",
     "output_type": "stream",
     "text": [
      "accuracy = 94.46%.\n"
     ]
    }
   ],
   "source": [
    "y_pred = predict(data['X'], all_theta)\n",
    "correct = [1 if a == b else 0 for (a, b) in zip(y_pred, data['y'])]\n",
    "accuracy = sum(correct) / len(correct) * 100\n",
    "print('accuracy = {0}%.'.format(accuracy))"
   ]
  }
 ],
 "metadata": {
  "kernelspec": {
   "display_name": "Python 3",
   "language": "python",
   "name": "python3"
  },
  "language_info": {
   "codemirror_mode": {
    "name": "ipython",
    "version": 3
   },
   "file_extension": ".py",
   "mimetype": "text/x-python",
   "name": "python",
   "nbconvert_exporter": "python",
   "pygments_lexer": "ipython3",
   "version": "3.8.10"
  }
 },
 "nbformat": 4,
 "nbformat_minor": 2
}
